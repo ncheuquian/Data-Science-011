{
 "cells": [
  {
   "cell_type": "markdown",
   "id": "b0b21051-f6bf-4ce2-a23e-0aa3f163bd74",
   "metadata": {},
   "source": [
    "# Lab 5 on UNIX Command Pipelines in Bash for U.S. Baby Names in JupyterHub      \n",
    "\n",
    "**Author:** [Your Name]\n",
    "\n",
    "**Team:** [Your Team Name]\n",
    "\n",
    "**Team Members Present** [Your Team Members Who Are Present]\n",
    "\n",
    "**Date:** Feb 26, 2025\n",
    "\n",
    "**Course:** DSC 011 Sp25\n",
    "\n",
    "## First Steps:\n",
    "\n",
    "0. In this notebook file, **please fill in your name, your team name, team's members present and your team's first typist's name below.**\n",
    "1. **Please rename this file** so that it contains your first and last name separated by underscores.\n",
    "2. **Work each step of this assignment together as a team! Make sure that each team member agrees and has entered the same correct answer as the typist before you move on.** \n",
    "\n",
    "## Download All Decade Data (Typist: [Your Team's First Typist Name]) \n",
    "\n",
    "Modify the following `bash` for loop so that the decades are correctly printed in the name."
   ]
  },
  {
   "cell_type": "code",
   "execution_count": null,
   "id": "3ef20e6e-45df-4cc3-9505-b20fab36b547",
   "metadata": {},
   "outputs": [],
   "source": [
    "for decade in {188..201}0; do html=\"names$decades.html\"; sleep 1; echo $html; done;"
   ]
  },
  {
   "cell_type": "markdown",
   "id": "66e2ea71-6c0a-405c-8897-8fbc477c1785",
   "metadata": {},
   "source": [
    "Now modify the preceding `bash` command to download HTML files for all 14 decades of babynames data to your JupyterHub. Retain the `sleep 1` command to space out the requests and be polite (not spam the SSA webserver). **Hint: use double quotation marks to surround the URL so that the $decade variable can evalute to its value.**"
   ]
  },
  {
   "cell_type": "code",
   "execution_count": null,
   "id": "ece11a64-a841-4444-a0f7-6461a6ef7414",
   "metadata": {
    "scrolled": true
   },
   "outputs": [],
   "source": []
  },
  {
   "cell_type": "markdown",
   "id": "27c6754d-52a6-4b6e-9016-5a3668a45cb5",
   "metadata": {},
   "source": [
    "## Convert each Data File to Text Using Shell Redirection and bash (Typist: [Your Team's Second Typist Name])\n",
    "\n",
    "Use the python `html2text` library and shell redirection as in lecture and a `bash` for loop to convert each HTML file to text using shell redirection, one file at a time. **Hint: you need to add a new variable called `text` with the name of the intended output text file using the `.txt` filename extension. "
   ]
  },
  {
   "cell_type": "code",
   "execution_count": null,
   "id": "bfe0a118-1cba-4d94-83b5-3ccd72f9dd2b",
   "metadata": {},
   "outputs": [],
   "source": []
  },
  {
   "cell_type": "markdown",
   "id": "c59622a5-5749-45fe-9321-34ed4495a316",
   "metadata": {},
   "source": [
    "## Extract Data Lines using Regular Expressions (Typist: [Your Team's Third Typist Name])\n",
    "\n",
    "Use `ls -1` and `wc -l` in a single UNIX command pipeline to verify that you have created 14 files that start with the prefix `names` and end with extension `txt`"
   ]
  },
  {
   "cell_type": "code",
   "execution_count": null,
   "id": "ae0c7d08-f675-4261-b413-79445c684518",
   "metadata": {},
   "outputs": [],
   "source": []
  },
  {
   "cell_type": "markdown",
   "id": "7ab60dd7-9ca3-4117-aa33-9cb90c073aac",
   "metadata": {},
   "source": [
    "Write a single UNIX command pipeline (not using a for loop) that extracts all 200 baby-names data lines from each of the 14 converted text files and also includes the matching filename at the beginning of each line, and then verifies that the correct number of lines are extracted by counting the number of lines. Check with your team members how many lines you expect to have in the output and check that this is the number printed in the notebook."
   ]
  },
  {
   "cell_type": "code",
   "execution_count": null,
   "id": "5f86c5f1-8f09-4922-874f-1dc1095f3325",
   "metadata": {},
   "outputs": [],
   "source": []
  },
  {
   "cell_type": "markdown",
   "id": "3f713993-88d9-4bde-a781-53cf1861ebc8",
   "metadata": {},
   "source": [
    "Now modify the previous UNIX command to use bash shell redirection to save the output to the file `baby_data.txt` "
   ]
  },
  {
   "cell_type": "code",
   "execution_count": null,
   "id": "e475e0c8-f244-48d6-a14a-9cd4ccdfe83f",
   "metadata": {},
   "outputs": [],
   "source": []
  },
  {
   "cell_type": "markdown",
   "id": "63e41bbe-55cd-43f5-afad-2ff7c51482d7",
   "metadata": {},
   "source": [
    "## Clean the Baby Names Data and Convert it to CSV (Typist: [Your Team's Fourth Typist Name]) \n",
    "\n",
    "Develop and write a single UNIX pipeline to \n",
    "1) delete all parts of the filenames at the beginning of each line so that only the decade (as a four digit number) remains,\n",
    "2) deletes all commas and spaces from each line,\n",
    "3) changes the colon (:) and pipe character (|) delimiters to commas, and\n",
    "4) once validated, uses shell redirection to save the output to the file `baby_clean.txt`"
   ]
  },
  {
   "cell_type": "code",
   "execution_count": null,
   "id": "829e6eb8-0c64-490d-9a8f-e98ee152c973",
   "metadata": {},
   "outputs": [],
   "source": []
  },
  {
   "cell_type": "markdown",
   "id": "8f68d2ae-fb1d-4dac-8753-6449b87a076a",
   "metadata": {},
   "source": [
    "## Answer a Fairly Hard Question About the Data (Typist: [Your Team's Fifth Typist Name]) \n",
    "\n",
    "Write a single UNIX pipeline to answer the question (as an output number included in the notebook output you turn in): **how many unique boys and girls names are included in this dataset from all fourteen decades?** "
   ]
  },
  {
   "cell_type": "code",
   "execution_count": null,
   "id": "c2b47f8b-b920-4eb2-bf01-24776adf9d8d",
   "metadata": {},
   "outputs": [],
   "source": []
  },
  {
   "cell_type": "markdown",
   "id": "537b87d4-2a7c-4f2b-a9db-9366dce44672",
   "metadata": {},
   "source": [
    "## Answer an Even Harder Question About the Data (Typist: [Your Team's Sixth Typist Name]) \n",
    "\n",
    "Write a single UNIX pipeline to answer the question (as an output number included in the notebook output you turn in): **what is the frequency distribution of first letters among boy's names sorted by frequency from most common to least common?** "
   ]
  },
  {
   "cell_type": "code",
   "execution_count": null,
   "id": "18d0f9fd-be22-499b-a9c7-dcbfda1dc055",
   "metadata": {},
   "outputs": [],
   "source": []
  },
  {
   "cell_type": "markdown",
   "id": "37a270f7-739f-4b2b-9b96-9ee5d1bce9c5",
   "metadata": {},
   "source": [
    "**Please export your worked notebook containing command output to HTML and upload it to CatCourses at the end of Lab.**"
   ]
  }
 ],
 "metadata": {
  "kernelspec": {
   "display_name": "Bash",
   "language": "bash",
   "name": "bash"
  },
  "language_info": {
   "codemirror_mode": "shell",
   "file_extension": ".sh",
   "mimetype": "text/x-sh",
   "name": "bash"
  }
 },
 "nbformat": 4,
 "nbformat_minor": 5
}

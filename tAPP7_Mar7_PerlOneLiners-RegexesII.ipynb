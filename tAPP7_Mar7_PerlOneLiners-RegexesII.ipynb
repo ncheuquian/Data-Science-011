{
 "cells": [
  {
   "cell_type": "markdown",
   "id": "1d4373d6-342e-4456-a834-43b74a6bbf01",
   "metadata": {},
   "source": [
    "# tAPP 7: Querying the Baby Names Data Using Extended Regular Expressions\n",
    "\n",
    "**Author:** [Your Name]\n",
    "\n",
    "**Team:** [Your Team Name]\n",
    "\n",
    "**Team Members Present:** [Your Team Members Present During Lecture]\n",
    "\n",
    "**Date:** Mar 7, 2025\n",
    "\n",
    "**Course:** DSC 011 Sp25\n",
    "\n",
    "## The Goal and Task of This Assignment\n",
    "\n",
    "**The Goal of this assignment is to provide a workbook for you to practice codes demonstrated in lecture and get immediate feedback about their correctness.** "
   ]
  },
  {
   "cell_type": "markdown",
   "id": "414bfddc-1586-4728-ac1c-c29e857ef5c0",
   "metadata": {},
   "source": [
    "**Your Task:  follow the instructor's demonstration and copy, develop and/or debug codes in this notebook and execute them in the code cells as instructed so their output appears in the notebook, with the aim of reproducing the calculations so that the notebook evaluates the code is CORRECT. If the solution is INCORRECT, you must ask your teammates or the instructor for help fixing the bug or you will lose credit. At the end of lecture, export your notebook to HTML and upload to CatCourses.**\n",
    "\n",
    "## General Instructions:\n",
    "1. In this notebook file, please fill in all information at the top and save the notebook.\n",
    "2. Rename your saved notebook using your own name.\n",
    "3. Work the assignment as detailed below. \n",
    "4. When finished working the assignment, save the notebook, then export it to HTML.\n",
    "5. Upload the HTML export of your worked assignment to CatCourses.\n",
    "\n",
    "## Specific Instructions: \n"
   ]
  },
  {
   "cell_type": "markdown",
   "id": "832c6840-9650-4f34-8f0c-c80a8dcdb3c2",
   "metadata": {},
   "source": [
    "## Validate Existence and Correctness of Baby Names Input File\n",
    "\n",
    "1. **Run the following code cell with shift-enter to validate the existence and correctness of the baby names input data.**"
   ]
  },
  {
   "cell_type": "code",
   "execution_count": null,
   "id": "56d3e0d7-eb99-4d94-acde-4e620ad3109a",
   "metadata": {},
   "outputs": [],
   "source": [
    "#perl -ne 'print \"$ARGV:$_\" if (/^\\d+\\s\\|/)' names[12][890][0-9]0s.txt | cut -c 6-10,15- | tr -d \" ,\" | tr \":|\" , > baby_clean.csv\n",
    "if [ `cat baby_clean.csv | wc -l` -eq 2800 ]; then \n",
    "    echo \"2800 data lines detected in baby_clean.csv. CORRECT.\"\n",
    "else \n",
    "    echo \"Fewer or Greater than 2800 data lines detected in baby_clean.csv. INCORRECT. Amoungt found was:\"\n",
    "    cat baby_clean.csv | wc -l\n",
    "    echo \"Investigate the output interactively in the cell below using wc, egrep, sort, cut, etc\"\n",
    "fi;\n",
    "echo \"testing equality of data...\"\n",
    "echo \"...first ten lines...\"\n",
    "head baby_clean.csv\n",
    "echo \"...md5sum...\"\n",
    "head baby_clean.csv | md5sum\n",
    "if [[ `head baby_clean.csv | md5sum` == \"6d8913fae285edec358d107db11dc4ed  -\" ]]; then \n",
    "    echo \"md5sum of first ten lines of baby_clean.csv is CORRECT.\"\n",
    "else \n",
    "    echo \"ERROR: md5sum of first ten lines of baby_clean.csv is INCORRECT.\"\n",
    "fi;\n",
    "echo \"...all data...\"\n",
    "echo \"...md5sum...\"\n",
    "cat baby_clean.csv | md5sum\n",
    "if [[ `cat baby_clean.csv | md5sum` == \"8fee16f6cd371c349dc6f30c04e4648c  -\" ]]; then \n",
    "    echo \"md5sum of all data in baby_clean.csv is CORRECT.\"\n",
    "else \n",
    "    echo \"ERROR: md5sum of all data in baby_clean.csv INCORRECT.\"\n",
    "fi;"
   ]
  },
  {
   "cell_type": "markdown",
   "id": "8cdd869d-e77b-4a4b-a24f-0d08ac65ea22",
   "metadata": {},
   "source": [
    "## Compute Population-Level Frequency Statistics for First Letters of Boys Names\n"
   ]
  },
  {
   "cell_type": "markdown",
   "id": "d0bd77a1-3a7e-45dc-8a92-46170bbc0074",
   "metadata": {},
   "source": [
    "2. **The Following Perl One-liner to compute birth-weighted first letters of first names of boys contains two small but critical bugs. Run the code with shift-enter, and read the errors carefully. Change the code as little as possible, but fix the two bugs both at the top of the code cells and in the string value of oneliner, so that the code reads CORRECT.**"
   ]
  },
  {
   "cell_type": "code",
   "execution_count": 18,
   "id": "c1511c56-0c15-4c03-a986-85d884a0f18d",
   "metadata": {},
   "outputs": [
    {
     "name": "stdout",
     "output_type": "stream",
     "text": [
      "Birth-Weighted Average Frequency of First Letters Among Top-Ranked Boy's Names Over 14 decades:\n",
      "syntax error at -e line 1, near \"F[\"\n",
      "Missing right curly or square bracket at -e line 1, at end of line\n",
      "syntax error at -e line 1, at EOF\n",
      "Execution of -e aborted due to compilation errors.\n",
      "## Your oneliner was:\n",
      "cut -d, -f3,4 baby_clean.csv | tr -d a-z | perl -F, -ane '$f{$F[0]} += \\F[1];END{foreach my $k (sort keys %f) { print \"$k $f{$k}\\n\" }' | sort -nr -k2,2\n",
      "syntax error at -e line 1, near \"F[\"\n",
      "Missing right curly or square bracket at -e line 1, at end of line\n",
      "syntax error at -e line 1, at EOF\n",
      "Execution of -e aborted due to compilation errors.\n",
      "## The first ten lines of the output of your oneliner was:\n",
      "\n",
      "## The exit code of your oneliner was:\n",
      "0\n",
      "## The md5sum of the first ten lines of the output of your oneliner was:\n",
      "d41d8cd98f00b204e9800998ecf8427e\n",
      "#### ERROR: md5sum of the output is INCORRECT.\n"
     ]
    }
   ],
   "source": [
    "echo \"Birth-Weighted Average Frequency of First Letters Among Top-Ranked Boy's Names Over 14 decades:\"\n",
    "cut -d, -f3,4 baby_clean.csv | \n",
    "tr -d a-z | \n",
    "perl -F, -ane '$f{$F[0]} += F[1];END{foreach my $k (sort keys %f) { print \"$k $f{$k}\\n\"}' | \n",
    "sort -nr -k2,2\n",
    "\n",
    "oneliner=\"cut -d, -f3,4 baby_clean.csv | tr -d a-z | perl -F, -ane '\\$f{\\$F[0]} += \\F[1];END{foreach my \\$k (sort keys %f) { print \\\"\\$k \\$f{\\$k}\\n\\\" }' | sort -nr -k2,2\"\n",
    "\n",
    "# Execute the command and capture the output\n",
    "echo \"## Your oneliner was:\"\n",
    "echo $oneliner\n",
    "output=$(eval \"$oneliner | head\")\n",
    "exit_code=$?\n",
    "md5sum=$(echo -n \"$output\" | md5sum | perl -ane 'print \"$F[0]\\n\"')\n",
    "# Echo the output and exit code\n",
    "echo \"## The first ten lines of the output of your oneliner was:\"\n",
    "echo \"$output\"\n",
    "echo \"## The exit code of your oneliner was:\"\n",
    "echo $exit_code\n",
    "echo \"## The md5sum of the first ten lines of the output of your oneliner was:\"\n",
    "echo $md5sum\n",
    "if [[ $md5sum == \"7fec30d557af71ec4f1830d31f8bd7cc\" ]]; then \n",
    "    echo \"#### md5sum of the output is CORRECT.\"\n",
    "else \n",
    "    echo \"#### ERROR: md5sum of the output is INCORRECT.\"\n",
    "fi;"
   ]
  },
  {
   "cell_type": "markdown",
   "id": "d84c50df-0ef7-4300-965b-6a723df159ad",
   "metadata": {},
   "source": [
    "3. **Edit the two Bash+Perl one-liners ONLY where indicated to 1) add up all of the population-level frequencies over all letters, names and decades, and 2) add up the total number of male babies, to show that they are equal.**"
   ]
  },
  {
   "cell_type": "code",
   "execution_count": 3,
   "id": "fbcd60b4-3f78-45f8-ac68-1d7dcc77010b",
   "metadata": {},
   "outputs": [
    {
     "name": "stdout",
     "output_type": "stream",
     "text": [
      "total male babies as sum of first-letter frequencies per baby:\n",
      "first ten lines of input:\n",
      "J 26685580\n",
      "R 13598353\n",
      "D 11219785\n",
      "M 10398943\n",
      "C 10212882\n",
      "A 8901618\n",
      "T 6386581\n",
      "W 6306791\n",
      "B 6157982\n",
      "S 5787450\n",
      "edit the perl one-liner containing the string INCORRECT to add the numbers in the second field.\n",
      "INCORRECT\n",
      "total male babies in original source data:\n",
      "first ten lines of input:\n",
      "89949\n",
      "84881\n",
      "54056\n",
      "47651\n",
      "46656\n",
      "30967\n",
      "26292\n",
      "24139\n",
      "24074\n",
      "23750\n",
      "edit the perl one-liner containing the string INCORRECT to add the numbers in the second field.\n",
      "INCORRECT\n"
     ]
    }
   ],
   "source": [
    "echo \"total male babies as sum of first-letter frequencies per baby:\"\n",
    "echo \"first ten lines of input:\"\n",
    "cut -d, -f3,4 baby_clean.csv | tr -d a-z | perl -F, -ane '$freq{$F[0]} += $F[1];END{foreach my $key (sort keys %freq) { print \"$key $freq{$key}\\n\" }}' | sort -nr -k2,2 | head\n",
    "echo \"edit the perl one-liner containing the string INCORRECT to add the numbers in the second field.\"\n",
    "cut -d, -f3,4 baby_clean.csv | tr -d a-z | perl -F, -ane '$freq{$F[0]} += $F[1];END{foreach my $key (sort keys %freq) { print \"$key $freq{$key}\\n\" }}' | sort -nr -k2,2 |\n",
    "perl -ane 'END{print \"INCORRECT\\n\"}'\n",
    "### EDIT ONLY THE LINE ABOVE\n",
    "echo \"total male babies in original source data:\"\n",
    "echo \"first ten lines of input:\"\n",
    "cut -d, -f4 baby_clean.csv | head\n",
    "echo \"edit the perl one-liner containing the string INCORRECT to add the numbers in the first field.\"\n",
    "cut -d, -f4 baby_clean.csv |\n",
    "perl -ane 'END{print \"INCORRECT\\n\"}'\n",
    "### EDIT ONLY THE LINE ABOVE"
   ]
  },
  {
   "cell_type": "markdown",
   "id": "1536bad4-0802-4035-837b-6ce2f0881e0b",
   "metadata": {},
   "source": [
    "## More Practice with Extended Regular Expressions to Query Babynames Data"
   ]
  },
  {
   "cell_type": "markdown",
   "id": "a1fbb8ca-a50b-471a-b9b0-034689ce84eb",
   "metadata": {},
   "source": [
    "4. **Which unique boys and girls names end with suffixes \"don\" or \"ler\" irrespective of case? Use an option to `egrep` and anchor the match to the end of the word or line. There should be six such names in the output to show CORRECT.**"
   ]
  },
  {
   "cell_type": "code",
   "execution_count": 4,
   "id": "9c48a9a0-0191-4969-a36b-d8985c475ebd",
   "metadata": {},
   "outputs": [
    {
     "name": "stdout",
     "output_type": "stream",
     "text": [
      "## Your oneliner was:\n",
      "cut -d, -f3,5 baby_clean.csv | tr , '\\n' | sort -u | egrep -i '(don|ler)$'\n",
      "## The output of your oneliner was:\n",
      "Brandon\n",
      "Don\n",
      "Gordon\n",
      "Landon\n",
      "London\n",
      "Tyler\n",
      "## The exit code of your oneliner was:\n",
      "0\n",
      "## The md5sum of the output of your oneliner was:\n",
      "6a07ec9a1009854a3ef9d5604c34f115\n",
      "#### md5sum of the output is CORRECT.\n"
     ]
    }
   ],
   "source": [
    "oneliner=\"cut -d, -f3,5 baby_clean.csv | tr , '\\n' | sort -u | egrep -i '(don|ler)$'\"\n",
    "\n",
    "# Execute the command and capture the output\n",
    "echo \"## Your oneliner was:\"\n",
    "echo $oneliner\n",
    "output=$(eval \"$oneliner\")\n",
    "exit_code=$?\n",
    "md5sum=$(echo -n \"$output\" | md5sum | perl -ane 'print \"$F[0]\\n\"')\n",
    "# Echo the output and exit code\n",
    "echo \"## The output of your oneliner was:\"\n",
    "echo \"$output\"\n",
    "echo \"## The exit code of your oneliner was:\"\n",
    "echo $exit_code\n",
    "echo \"## The md5sum of the output of your oneliner was:\"\n",
    "echo $md5sum\n",
    "if [[ $md5sum == \"6a07ec9a1009854a3ef9d5604c34f115\" ]]; then \n",
    "    echo \"#### md5sum of the output is CORRECT.\"\n",
    "else \n",
    "    echo \"#### ERROR: md5sum of the output is INCORRECT.\"\n",
    "fi;"
   ]
  },
  {
   "cell_type": "markdown",
   "id": "e177dacc-ee24-48f5-b2ea-7b4a20fca8a6",
   "metadata": {},
   "source": [
    "5. **In which four lines of data do the top-ranked boy's and girl's names with the same rank END with the same three letters?**"
   ]
  },
  {
   "cell_type": "code",
   "execution_count": 7,
   "id": "b2b745c8-1461-427d-85c5-bbb5d034c2ff",
   "metadata": {},
   "outputs": [
    {
     "name": "stdout",
     "output_type": "stream",
     "text": [
      "## Your oneliner was:\n",
      "egrep '([a-z]{3}),[A-Za-z,0-9]+\\1,' baby_clean.csv\n",
      "## The output of your oneliner was:\n",
      "1890s,30,Charlie,7261,Nellie,17285\n",
      "1930s,153,Billie,9703,Rosalie,13713\n",
      "1950s,22,Timothy,198303,Kathy,157928\n",
      "2000s,50,Jason,88551,Addison,51383\n",
      "## The exit code of your oneliner was:\n",
      "0\n",
      "## The md5sum of the output of your oneliner was:\n",
      "c6a21bcd4eb736f35b528b5dabf0c2b7\n",
      "#### md5sum of the output is CORRECT.\n"
     ]
    }
   ],
   "source": [
    "oneliner=\"\"\n",
    "\n",
    "# Execute the command and capture the output\n",
    "echo \"## Your oneliner was:\"\n",
    "echo $oneliner\n",
    "output=$(eval \"$oneliner\")\n",
    "exit_code=$?\n",
    "md5sum=$(echo -n \"$output\" | md5sum | perl -ane 'print \"$F[0]\\n\"')\n",
    "# Echo the output and exit code\n",
    "echo \"## The output of your oneliner was:\"\n",
    "echo \"$output\"\n",
    "echo \"## The exit code of your oneliner was:\"\n",
    "echo $exit_code\n",
    "echo \"## The md5sum of the output of your oneliner was:\"\n",
    "echo $md5sum\n",
    "if [[ $md5sum == \"c6a21bcd4eb736f35b528b5dabf0c2b7\" ]]; then \n",
    "    echo \"#### md5sum of the output is CORRECT.\"\n",
    "else \n",
    "    echo \"#### ERROR: md5sum of the output is INCORRECT.\"\n",
    "fi;"
   ]
  },
  {
   "cell_type": "markdown",
   "id": "48ca4d71-e667-4a64-882f-9965b2e35f3e",
   "metadata": {},
   "source": [
    "9. **Which unique top-ranked boys and girls names contain three or more instances of the same letter, irrespective of case?**"
   ]
  },
  {
   "cell_type": "code",
   "execution_count": 33,
   "id": "74b0a579-cbb6-4b5c-9a87-15c32a36f07e",
   "metadata": {},
   "outputs": [
    {
     "name": "stdout",
     "output_type": "stream",
     "text": [
      "## Your oneliner was:\n",
      "cut -d, -f3,5 baby_clean.csv | tr , '\\n' | sort -u | egrep -i '([a-z])[a-z]*\\1[a-z]*\\1'\n",
      "## The output of your oneliner was:\n",
      "Aaliyah\n",
      "Abraham\n",
      "Adriana\n",
      "Adrianna\n",
      "Alaina\n",
      "Alana\n",
      "Alejandra\n",
      "Alexandra\n",
      "Alexandria\n",
      "Amanda\n",
      "Amaya\n",
      "Antoinette\n",
      "Ariana\n",
      "Arianna\n",
      "Barbara\n",
      "Bobbie\n",
      "Bobby\n",
      "Cassandra\n",
      "Cheyenne\n",
      "Desiree\n",
      "Eileen\n",
      "Estelle\n",
      "Eugene\n",
      "Everett\n",
      "Ezekiel\n",
      "Genevieve\n",
      "Gregg\n",
      "Jeanette\n",
      "Jeannette\n",
      "Latasha\n",
      "Lillian\n",
      "Lillie\n",
      "Lilly\n",
      "Lowell\n",
      "Lucille\n",
      "Luella\n",
      "Makayla\n",
      "Mercedes\n",
      "Nannie\n",
      "Natalia\n",
      "Natasha\n",
      "Penelope\n",
      "Reese\n",
      "Renee\n",
      "Samantha\n",
      "Savannah\n",
      "Shannon\n",
      "Tamara\n",
      "Terrence\n",
      "Virginia\n",
      "Woodrow\n",
      "## The exit code of your oneliner was:\n",
      "0\n",
      "## The md5sum of the output of your oneliner was:\n",
      "a8ce3f3d7d637f6b26ba1ac92fbdccf1\n",
      "#### md5sum of the output is CORRECT.\n"
     ]
    }
   ],
   "source": [
    "oneliner=\"\"\n",
    "\n",
    "# Execute the command and capture the output\n",
    "echo \"## Your oneliner was:\"\n",
    "echo $oneliner\n",
    "output=$(eval \"$oneliner\")\n",
    "exit_code=$?\n",
    "md5sum=$(echo -n \"$output\" | md5sum | perl -ane 'print \"$F[0]\\n\"')\n",
    "# Echo the output and exit code\n",
    "echo \"## The output of your oneliner was:\"\n",
    "echo \"$output\"\n",
    "echo \"## The exit code of your oneliner was:\"\n",
    "echo $exit_code\n",
    "echo \"## The md5sum of the output of your oneliner was:\"\n",
    "echo $md5sum\n",
    "if [[ $md5sum == \"a8ce3f3d7d637f6b26ba1ac92fbdccf1\" ]]; then \n",
    "    echo \"#### md5sum of the output is CORRECT.\"\n",
    "else \n",
    "    echo \"#### ERROR: md5sum of the output is INCORRECT.\"\n",
    "fi;"
   ]
  },
  {
   "cell_type": "markdown",
   "id": "1f2cccf7-e3e2-4e89-a106-ded44a552f84",
   "metadata": {},
   "source": [
    "**Please export your worked notebook containing command output to HTML and upload it to CatCourses at the end of Lecture.**"
   ]
  }
 ],
 "metadata": {
  "kernelspec": {
   "display_name": "Bash",
   "language": "bash",
   "name": "bash"
  },
  "language_info": {
   "codemirror_mode": "shell",
   "file_extension": ".sh",
   "mimetype": "text/x-sh",
   "name": "bash"
  }
 },
 "nbformat": 4,
 "nbformat_minor": 5
}

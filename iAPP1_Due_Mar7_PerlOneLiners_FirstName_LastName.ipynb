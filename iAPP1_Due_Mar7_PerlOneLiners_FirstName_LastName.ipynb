{
 "cells": [
  {
   "cell_type": "markdown",
   "id": "1d4373d6-342e-4456-a834-43b74a6bbf01",
   "metadata": {},
   "source": [
    "# iAPP 1: Practicing with Perl One-Liners\n",
    "\n",
    "**Author:** [Your Name]\n",
    "\n",
    "**Friends Who Helped You:** [Write the names of friends who helped you here]\n",
    "\n",
    "**Due:** Mar 7, 2025 at 11:59 pm PST\n",
    "\n",
    "**Course:** DSC 011 Sp25\n",
    "\n",
    "## The Goal and Task of This Assignment\n",
    "\n",
    "\n",
    "## General Instructions:\n",
    "1. In this notebook file, please fill in your name and the names of all friends who helped you, and save the notebook.\n",
    "2. Rename your saved notebook using your own name.\n",
    "3. Work the assignment as detailed below. \n",
    "4. When finished working the assignment, save the notebook, then export it to HTML.\n",
    "5. Upload the HTML export of your worked assignment to CatCourses\n",
    "\n",
    "## Specific Instructions:\n",
    "1. Download a copy of the file `baby_clean.csv` from the JupyterHub to your laptop, and then move the copy to your Linux/UNIX specific work directory for this class and assignment.\n",
    "2. There is a section below for each chapter of [Perl One-Liners](https://learning.oreilly.com/library/view/perl-one-liners/9781457185281/), from Chapter 1 through Chapter 8 and Appendix A. **In a Terminal on your laptop, use your UNIX bash/zsh shell to test out, adapt and (attempt to) validate Perl one-liners from this \"cookbook.\" From each chapter or appendix, select any two Perl one-liners and adapt them so that they correctly compute the intended output for the datafile `baby_clean.csv.`**\n",
    "3. Then, for each working Perl one-liner you have written and validated, copy the working Perl one-liner in the section of this notebook corresponding to the chapter or appendix it came from. Execute the code-cell to verify that it computes the same answer in the notebook as it does on your laptop using the JupyterHub copy of `baby_clean.csv`, and shows the correctr answer in the notebook output. **IMPORTANT: If the perl one-liner outputs data to standard output stream, then pipe the Perl one-liner through `head` to record only the first ten lines in the notebook.** \n",
    "4. Copy the book's section header for the corresponding one-liner, describing what that one-liner computes. For example, if you decide to test out/adapt section 3.15 \"Replace all words with their numeric positions\" from chapter 3 and the corresponding one-liner `perl -pe 's/(\\w+)/++$i/ge'`on `baby_clean.csv`, then after you do this on your laptop, in the markdown of this notebook under the section for Chapter 3, edit the markdown so your notebook looks like this:\n",
    "\n",
    "### EXAMPLE: Chapter 3\n",
    "#### EXAMPLE: Section 3.15 Replace all words with their numeric positions"
   ]
  },
  {
   "cell_type": "code",
   "execution_count": 3,
   "id": "d89cc0e8-0d0a-477a-bd99-19151567bfba",
   "metadata": {},
   "outputs": [
    {
     "name": "stdout",
     "output_type": "stream",
     "text": [
      "1,2,3,4,5,6\n",
      "7,8,9,10,11,12\n",
      "13,14,15,16,17,18\n",
      "19,20,21,22,23,24\n",
      "25,26,27,28,29,30\n",
      "31,32,33,34,35,36\n",
      "37,38,39,40,41,42\n",
      "43,44,45,46,47,48\n",
      "49,50,51,52,53,54\n",
      "55,56,57,58,59,60\n"
     ]
    }
   ],
   "source": [
    "echo \"example output of \n",
    "perl -pe 's/(\\w+)/++$i/ge' baby_clean.csv | head"
   ]
  },
  {
   "cell_type": "markdown",
   "id": "414bfddc-1586-4728-ac1c-c29e857ef5c0",
   "metadata": {},
   "source": [
    "## Assignment \n",
    "### [Chapter 1. Introduction to Perl One-Liners](https://learning.oreilly.com/library/view/perl-one-liners/9781457185281/ch01.html)\n",
    "#### <Section 1.a> "
   ]
  },
  {
   "cell_type": "code",
   "execution_count": null,
   "id": "086e4557-0855-490d-b701-03e03643effa",
   "metadata": {},
   "outputs": [],
   "source": []
  },
  {
   "cell_type": "markdown",
   "id": "f790f0ff-dbc2-4941-96c9-e88a01d681ae",
   "metadata": {},
   "source": [
    "#### <Section 1.b> "
   ]
  },
  {
   "cell_type": "code",
   "execution_count": null,
   "id": "6c008114-c629-4af5-86ce-4a73a50c83cd",
   "metadata": {},
   "outputs": [],
   "source": []
  },
  {
   "cell_type": "markdown",
   "id": "6325b224-189c-44b8-bb0d-1c9f974be04c",
   "metadata": {},
   "source": [
    "### [Chapter 2. Spacing](https://learning.oreilly.com/library/view/perl-one-liners/9781457185281/ch02.html)\n",
    "#### <section 2.a> "
   ]
  },
  {
   "cell_type": "code",
   "execution_count": null,
   "id": "3ef20e6e-45df-4cc3-9505-b20fab36b547",
   "metadata": {},
   "outputs": [],
   "source": []
  },
  {
   "cell_type": "markdown",
   "id": "66e2ea71-6c0a-405c-8897-8fbc477c1785",
   "metadata": {},
   "source": [
    "#### <section 2.b> "
   ]
  },
  {
   "cell_type": "markdown",
   "id": "c59622a5-5749-45fe-9321-34ed4495a316",
   "metadata": {},
   "source": []
  },
  {
   "cell_type": "markdown",
   "id": "7ab60dd7-9ca3-4117-aa33-9cb90c073aac",
   "metadata": {},
   "source": [
    "### [Chapter 3. Numbering](https://learning.oreilly.com/library/view/perl-one-liners/9781457185281/ch03.html#three_1_number_all_lines_in_a_file)\n",
    "#### <section 3.a> "
   ]
  },
  {
   "cell_type": "code",
   "execution_count": null,
   "id": "c2cbc1a2-1ca8-4b54-95ae-57bd8dd7e92e",
   "metadata": {},
   "outputs": [],
   "source": []
  },
  {
   "cell_type": "markdown",
   "id": "3f713993-88d9-4bde-a781-53cf1861ebc8",
   "metadata": {},
   "source": [
    "#### <section 3.b> "
   ]
  },
  {
   "cell_type": "code",
   "execution_count": null,
   "id": "e475e0c8-f244-48d6-a14a-9cd4ccdfe83f",
   "metadata": {},
   "outputs": [],
   "source": []
  },
  {
   "cell_type": "markdown",
   "id": "832c6840-9650-4f34-8f0c-c80a8dcdb3c2",
   "metadata": {},
   "source": [
    "### [Chapter 4. Calculations](https://learning.oreilly.com/library/view/perl-one-liners/9781457185281/ch04.html)\n",
    "#### <section 4.a> "
   ]
  },
  {
   "cell_type": "code",
   "execution_count": null,
   "id": "56d3e0d7-eb99-4d94-acde-4e620ad3109a",
   "metadata": {},
   "outputs": [],
   "source": []
  },
  {
   "cell_type": "markdown",
   "id": "8f68d2ae-fb1d-4dac-8753-6449b87a076a",
   "metadata": {},
   "source": [
    "#### <section 4.b> "
   ]
  },
  {
   "cell_type": "code",
   "execution_count": null,
   "id": "c2b47f8b-b920-4eb2-bf01-24776adf9d8d",
   "metadata": {},
   "outputs": [],
   "source": []
  },
  {
   "cell_type": "markdown",
   "id": "537b87d4-2a7c-4f2b-a9db-9366dce44672",
   "metadata": {},
   "source": [
    "### [Chapter 5. Working With Arrays and Strings](https://learning.oreilly.com/library/view/perl-one-liners/9781457185281/ch05.html)\n",
    "#### <section 5.a> "
   ]
  },
  {
   "cell_type": "code",
   "execution_count": null,
   "id": "18d0f9fd-be22-499b-a9c7-dcbfda1dc055",
   "metadata": {},
   "outputs": [],
   "source": []
  },
  {
   "cell_type": "markdown",
   "id": "a2a8a405-eae7-464d-8e00-3d68e5beec3f",
   "metadata": {},
   "source": [
    "#### <section 5.b> "
   ]
  },
  {
   "cell_type": "code",
   "execution_count": null,
   "id": "d8c03efc-3491-407d-a313-0e946d647b70",
   "metadata": {},
   "outputs": [],
   "source": []
  },
  {
   "cell_type": "markdown",
   "id": "eb7c67aa-8014-4fdf-b0a9-e8107f33aa80",
   "metadata": {},
   "source": [
    "### [Chapter 6. Text Conversion and Substitution](https://learning.oreilly.com/library/view/perl-one-liners/9781457185281/ch06.html)\n",
    "#### <section 6.a> "
   ]
  },
  {
   "cell_type": "code",
   "execution_count": null,
   "id": "8305deba-aec7-45b4-9856-d1869e8b61ae",
   "metadata": {},
   "outputs": [],
   "source": []
  },
  {
   "cell_type": "markdown",
   "id": "ae1644f2-4f6b-421f-900b-f7927bdfaa9f",
   "metadata": {},
   "source": [
    "#### <section 6.b> "
   ]
  },
  {
   "cell_type": "code",
   "execution_count": null,
   "id": "1e0a4391-fd37-407c-adf7-f113faf9b37d",
   "metadata": {},
   "outputs": [],
   "source": []
  },
  {
   "cell_type": "markdown",
   "id": "b53a6c5c-0500-4aae-a4a8-4c521181155a",
   "metadata": {},
   "source": [
    "### [Chapter 7. Selectively Printing and Deleting Lines](https://learning.oreilly.com/library/view/perl-one-liners/9781457185281/ch07.html)\n",
    "#### <section 7.a> "
   ]
  },
  {
   "cell_type": "code",
   "execution_count": null,
   "id": "bcfa8476-9dc9-4bbd-bcec-64dcae8af86a",
   "metadata": {},
   "outputs": [],
   "source": []
  },
  {
   "cell_type": "markdown",
   "id": "d84c50df-0ef7-4300-965b-6a723df159ad",
   "metadata": {},
   "source": [
    "#### <section 7.b> "
   ]
  },
  {
   "cell_type": "code",
   "execution_count": null,
   "id": "fbcd60b4-3f78-45f8-ac68-1d7dcc77010b",
   "metadata": {},
   "outputs": [],
   "source": []
  },
  {
   "cell_type": "markdown",
   "id": "34b5a258-32f2-4e8e-b8ca-1fa41038a0f1",
   "metadata": {},
   "source": [
    "### [Chapter 8. Useful Regular Expressions](https://learning.oreilly.com/library/view/perl-one-liners/9781457185281/ch08.html)\n",
    "#### <section 8.a> "
   ]
  },
  {
   "cell_type": "code",
   "execution_count": null,
   "id": "554995b8-348d-4768-ac51-4d7b509aaa6a",
   "metadata": {},
   "outputs": [],
   "source": []
  },
  {
   "cell_type": "markdown",
   "id": "7eeb46d7-e5a7-4a55-9bde-15a6f31ace0a",
   "metadata": {},
   "source": [
    "#### <section 8.b> "
   ]
  },
  {
   "cell_type": "code",
   "execution_count": null,
   "id": "b243e372-8a4c-445c-a546-4ec345203d7d",
   "metadata": {},
   "outputs": [],
   "source": []
  },
  {
   "cell_type": "markdown",
   "id": "28fe235e-13c9-4ab6-bf24-457c5be86afe",
   "metadata": {},
   "source": [
    "### [Appendix A. Perl’s Special Variables](https://learning.oreilly.com/library/view/perl-one-liners/9781457185281/apa.html)\n",
    "#### section A.a "
   ]
  },
  {
   "cell_type": "code",
   "execution_count": null,
   "id": "3a8d83aa-116a-4826-8822-b6081c88cdb0",
   "metadata": {},
   "outputs": [],
   "source": []
  },
  {
   "cell_type": "markdown",
   "id": "99b9d2fa-50c8-401d-808e-38bbd1048e34",
   "metadata": {},
   "source": [
    "#### section A.b"
   ]
  },
  {
   "cell_type": "code",
   "execution_count": null,
   "id": "5ba54015-706c-494e-93e7-038a27a11368",
   "metadata": {},
   "outputs": [],
   "source": []
  },
  {
   "cell_type": "markdown",
   "id": "1f2cccf7-e3e2-4e89-a106-ded44a552f84",
   "metadata": {},
   "source": [
    "**Please export your worked notebook containing command output to HTML and upload it to CatCourses by the Deadline.**"
   ]
  }
 ],
 "metadata": {
  "kernelspec": {
   "display_name": "Bash",
   "language": "bash",
   "name": "bash"
  },
  "language_info": {
   "codemirror_mode": "shell",
   "file_extension": ".sh",
   "mimetype": "text/x-sh",
   "name": "bash"
  }
 },
 "nbformat": 4,
 "nbformat_minor": 5
}

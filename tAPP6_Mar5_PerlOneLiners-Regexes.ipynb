{
 "cells": [
  {
   "cell_type": "markdown",
   "id": "1d4373d6-342e-4456-a834-43b74a6bbf01",
   "metadata": {},
   "source": [
    "# tAPP 6: Querying the Baby Names Data Using Extended Regiular Expressions\n",
    "\n",
    "**Author:** [Your Name]\n",
    "\n",
    "**Team:** [Your Team Name]\n",
    "\n",
    "**Team Members Present:** [Your Team Members Present During Lecture]\n",
    "\n",
    "**Date:** Mar 5, 2025\n",
    "\n",
    "**Course:** DSC 011 Sp25\n",
    "\n",
    "## The Goal and Task of This Assignment\n",
    "\n",
    "**The Goal of this assignment is to provide a workbook for you to practice codes demonstrated in lecture and get immediate feedback about their correctness.** "
   ]
  },
  {
   "cell_type": "markdown",
   "id": "414bfddc-1586-4728-ac1c-c29e857ef5c0",
   "metadata": {},
   "source": [
    "**Your Task:  follow the instructor's demonstration and copy example codes to this notebook, with the aim of reproducing the calculations so that the notebook evaluates the code is CORRECT. If the solution is INCORRECT, you must ask your teammates or the instructor for help fixing the bug or you will lose credit. At the end of lecture, export your notebook to HTML and upload to CatCourses.**\n",
    "\n",
    "## General Instructions:\n",
    "1. In this notebook file, please fill in all information at the top and save the notebook.\n",
    "2. Rename your saved notebook using your own name.\n",
    "3. Work the assignment as detailed below. \n",
    "4. When finished working the assignment, save the notebook, then export it to HTML.\n",
    "5. Upload the HTML export of your worked assignment to CatCourses.\n",
    "\n",
    "## Specific Instructions: \n"
   ]
  },
  {
   "cell_type": "markdown",
   "id": "832c6840-9650-4f34-8f0c-c80a8dcdb3c2",
   "metadata": {},
   "source": [
    "## Validate Existence and Correctness of Baby Names Input File\n",
    "\n",
    "1. **Run the following code cell with shift-enter to validate the existence and correctness of the baby names input data.**"
   ]
  },
  {
   "cell_type": "code",
   "execution_count": null,
   "id": "56d3e0d7-eb99-4d94-acde-4e620ad3109a",
   "metadata": {},
   "outputs": [],
   "source": [
    "#perl -ne 'print \"$ARGV:$_\" if (/^\\d+\\s\\|/)' names[12][890][0-9]0s.txt | cut -c 6-10,15- | tr -d \" ,\" | tr \":|\" , > baby_clean.csv\n",
    "if [ `cat baby_clean.csv | wc -l` -eq 2800 ]; then \n",
    "    echo \"2800 data lines detected in baby_clean.csv. CORRECT.\"\n",
    "else \n",
    "    echo \"Fewer or Greater than 2800 data lines detected in baby_clean.csv. INCORRECT. Amoungt found was:\"\n",
    "    cat baby_clean.csv | wc -l\n",
    "    echo \"Investigate the output interactively in the cell below using wc, egrep, sort, cut, etc\"\n",
    "fi;\n",
    "echo \"testing equality of data...\"\n",
    "echo \"...first ten lines...\"\n",
    "head baby_clean.csv\n",
    "echo \"...md5sum...\"\n",
    "head baby_clean.csv | md5sum\n",
    "if [[ `head baby_clean.csv | md5sum` == \"6d8913fae285edec358d107db11dc4ed  -\" ]]; then \n",
    "    echo \"md5sum of first ten lines of baby_clean.csv is CORRECT.\"\n",
    "else \n",
    "    echo \"ERROR: md5sum of first ten lines of baby_clean.csv is INCORRECT.\"\n",
    "fi;\n",
    "echo \"...all data...\"\n",
    "echo \"...md5sum...\"\n",
    "cat baby_clean.csv | md5sum\n",
    "if [[ `cat baby_clean.csv | md5sum` == \"8fee16f6cd371c349dc6f30c04e4648c  -\" ]]; then \n",
    "    echo \"md5sum of all data in baby_clean.csv is CORRECT.\"\n",
    "else \n",
    "    echo \"ERROR: md5sum of all data in baby_clean.csv INCORRECT.\"\n",
    "fi;"
   ]
  },
  {
   "cell_type": "markdown",
   "id": "537b87d4-2a7c-4f2b-a9db-9366dce44672",
   "metadata": {},
   "source": [
    "## Compute Observation-Level Frequency Distribution of First Letters of Boys Names\n",
    "\n",
    "2. **Run the following code-chunk with shift-enter to show the frequency distribution of first letters among ranked boy's names (treating duplicates over decades as different names), sorted by frequency from most to least common** "
   ]
  },
  {
   "cell_type": "code",
   "execution_count": null,
   "id": "18d0f9fd-be22-499b-a9c7-dcbfda1dc055",
   "metadata": {},
   "outputs": [],
   "source": [
    "echo \"Frequencies of First Letters Among Top-Ranked Boy's Names Over 14 Decades, Treating Duplicates Over Decades as Separate Names:\"\n",
    "cut -d, -f3 baby_clean.csv | cut -c 1 | sort | uniq -c | sort -nr"
   ]
  },
  {
   "cell_type": "markdown",
   "id": "8cdd869d-e77b-4a4b-a24f-0d08ac65ea22",
   "metadata": {},
   "source": [
    "## Compute Population-Level Frequency Statistics for First Letters of Boys Names\n",
    "\n",
    "While the above first-letter frequency distribution over names is interesting, it doesn't predict well what a person who lived over these 14 decades would experience as the first-letter distribution of first names, because their actual experience of first letters would be influenced by the **numbers of babies** born with each name. In order to compute this more \"natural\" or **population-level frequency distribution** rather than **observation-level frequency distribution** of first letters of boy's names, we need to weigh each first letter of each name by the number of babies born with that name, summing up for each first letter the numbers of babies with that first letter over all names and all decades. \n",
    "\n",
    "The question we wish to answer now is: **What is the sum of first frequency distribution of first letters among boy's names weighted by numbers of babies born with that name, sorted by frequencies per baby from most common to least common?** \n",
    "\n",
    "Let's walk through the process of developing a pipeline to answer this question, developing our pipeline in serial steps from beginning to end. \n",
    "\n",
    "3. **First, write a UNIX command that outputs the two columns of fields containing  boys names and the numbers of babies born with those names, from the file `baby_clean.csv.`**\n",
    "\n",
    "**Then, write your UNIX command within the double quotation marks as a string and the value of the variable `oneliner` in the code chunk below. Then execute the code chunk with shift-enter for immediate feedback on the correctness of your solution. Ask for help if necessary and keep developing until you get feedback that your solution is CORRECT.** "
   ]
  },
  {
   "cell_type": "code",
   "execution_count": null,
   "id": "b1cfbcdd-1c32-480d-b14c-72bda7e076fc",
   "metadata": {},
   "outputs": [],
   "source": [
    "# Enter your validated command oneliner within the double quotes \n",
    "oneliner=\"\"\n",
    "\n",
    "# Execute the command and capture the output\n",
    "echo \"## Your oneliner was:\"\n",
    "echo $oneliner\n",
    "output=$(eval \"$oneliner | head\")\n",
    "exit_code=$?\n",
    "md5sum=$(echo -n \"$output\" | md5sum | perl -ane 'print \"$F[0]\\n\"')\n",
    "# Echo the output and exit code\n",
    "echo \"## The first ten lines of the output of your oneliner was:\"\n",
    "echo \"$output\"\n",
    "echo \"## The exit code of your oneliner was:\"\n",
    "echo $exit_code\n",
    "echo \"## The md5sum of the first ten lines of the output of your oneliner was:\"\n",
    "echo $md5sum\n",
    "if [[ $md5sum == \"ae93d6bdfaeaa4992c373d28a35466f0\" ]]; then \n",
    "    echo \"#### md5sum of the output is CORRECT.\"\n",
    "else \n",
    "    echo \"#### ERROR: md5sum of the output is INCORRECT.\"\n",
    "fi;\n",
    "\n"
   ]
  },
  {
   "cell_type": "markdown",
   "id": "17c26042-6198-4910-a433-880f50f9d026",
   "metadata": {},
   "source": [
    "4. **Next, copy your solution from the last problem and extend the pipeline to delete all lower-case letters from each line. Write your extended pipeline within the double quotation marks in the code chunk below as a string and the value of the variable `oneliner`. Then execute the code chunk with shift-enter for immediate feedback on the correctness of your solution. Ask for help if necessary and keep developing until you get feedback that your solution is CORRECT.** "
   ]
  },
  {
   "cell_type": "code",
   "execution_count": null,
   "id": "e5b8bb4c-36ce-484c-b77f-48acdcdf5c7c",
   "metadata": {},
   "outputs": [],
   "source": [
    "# Enter your validated command oneliner within the double quotes \n",
    "oneliner=\"\"\n",
    "\n",
    "# Execute the command and capture the output\n",
    "echo \"## Your oneliner was:\"\n",
    "echo $oneliner\n",
    "output=$(eval \"$oneliner | head\")\n",
    "exit_code=$?\n",
    "md5sum=$(echo -n \"$output\" | md5sum | perl -ane 'print \"$F[0]\\n\"')\n",
    "# Echo the output and exit code\n",
    "echo \"## The first ten lines of the output of your oneliner was:\"\n",
    "echo \"$output\"\n",
    "echo \"## The exit code of your oneliner was:\"\n",
    "echo $exit_code\n",
    "echo \"## The md5sum of the first ten lines of the output of your oneliner was:\"\n",
    "echo $md5sum\n",
    "if [[ $md5sum == \"bd62b4318097edcb2dbbcfe0bf1c1a16\" ]]; then \n",
    "    echo \"#### md5sum of the output is CORRECT.\"\n",
    "else \n",
    "    echo \"#### ERROR: md5sum of the output is INCORRECT.\"\n",
    "fi;"
   ]
  },
  {
   "cell_type": "markdown",
   "id": "d0bd77a1-3a7e-45dc-8a92-46170bbc0074",
   "metadata": {},
   "source": [
    "5. **Next, copy the instructor's pipeline using a Perl one-liner to add up all of the population-level frequencies for each letter over all names and decades.**"
   ]
  },
  {
   "cell_type": "code",
   "execution_count": null,
   "id": "c1511c56-0c15-4c03-a986-85d884a0f18d",
   "metadata": {},
   "outputs": [],
   "source": [
    "echo \"Birth-Weighted Average Frequency of First Letters Among Top-Ranked Boy's Names Over 14 decades:\"\n",
    "\n",
    "oneliner=\"\"\n",
    "\n",
    "# Execute the command and capture the output\n",
    "echo \"## Your oneliner was:\"\n",
    "echo $oneliner\n",
    "output=$(eval \"$oneliner | head\")\n",
    "exit_code=$?\n",
    "md5sum=$(echo -n \"$output\" | md5sum | perl -ane 'print \"$F[0]\\n\"')\n",
    "# Echo the output and exit code\n",
    "echo \"## The first ten lines of the output of your oneliner was:\"\n",
    "echo \"$output\"\n",
    "echo \"## The exit code of your oneliner was:\"\n",
    "echo $exit_code\n",
    "echo \"## The md5sum of the first ten lines of the output of your oneliner was:\"\n",
    "echo $md5sum\n",
    "if [[ $md5sum == \"7fec30d557af71ec4f1830d31f8bd7cc\" ]]; then \n",
    "    echo \"#### md5sum of the output is CORRECT.\"\n",
    "else \n",
    "    echo \"#### ERROR: md5sum of the output is INCORRECT.\"\n",
    "fi;"
   ]
  },
  {
   "cell_type": "markdown",
   "id": "d84c50df-0ef7-4300-965b-6a723df159ad",
   "metadata": {},
   "source": [
    "5. **Next, copy the instructor's pipeline using two Perl one-liners to 1) add up all of the population-level frequencies over all letters, names and decades and 2) show that this is the same as the total number of boy babies in the dataset.**"
   ]
  },
  {
   "cell_type": "code",
   "execution_count": null,
   "id": "fbcd60b4-3f78-45f8-ac68-1d7dcc77010b",
   "metadata": {},
   "outputs": [],
   "source": [
    "echo \"total male babies as sum of first-letter frequencies per baby:\"\n",
    "\n",
    "echo \"total male babies in original source data:\"\n"
   ]
  },
  {
   "cell_type": "markdown",
   "id": "1536bad4-0802-4035-837b-6ce2f0881e0b",
   "metadata": {},
   "source": [
    "## Demonstrations Applying Extended Regular Expressions to Query Babynames Data\n",
    "\n",
    "6. **Which unique boys and girls names contain at least three consecutive vowels?**"
   ]
  },
  {
   "cell_type": "code",
   "execution_count": null,
   "id": "4910bfd1-3ab5-480e-afef-6a36a0714caa",
   "metadata": {},
   "outputs": [],
   "source": [
    "\n",
    "oneliner=\"\"\n",
    "\n",
    "# Execute the command and capture the output\n",
    "echo \"## Your oneliner was:\"\n",
    "echo $oneliner\n",
    "output=$(eval \"$oneliner\")\n",
    "exit_code=$?\n",
    "md5sum=$(echo -n \"$output\" | md5sum | perl -ane 'print \"$F[0]\\n\"')\n",
    "# Echo the output and exit code\n",
    "echo \"## The output of your oneliner was:\"\n",
    "echo \"$output\"\n",
    "echo \"## The exit code of your oneliner was:\"\n",
    "echo $exit_code\n",
    "echo \"## The md5sum of the output of your oneliner was:\"\n",
    "echo $md5sum\n",
    "if [[ $md5sum == \"b81fcc8f653edb5f6faa4442e23a41e4\" ]]; then \n",
    "    echo \"#### md5sum of the output is CORRECT.\"\n",
    "else \n",
    "    echo \"#### ERROR: md5sum of the output is INCORRECT.\"\n",
    "fi;"
   ]
  },
  {
   "cell_type": "markdown",
   "id": "ab02b5cc-3901-4b0a-a577-e554147a70c4",
   "metadata": {},
   "source": [
    "7. **Which unique boys and girls names contain at least five consecutive consonants?**"
   ]
  },
  {
   "cell_type": "code",
   "execution_count": null,
   "id": "815902dc-0f69-4d90-9769-8e69938dcb55",
   "metadata": {},
   "outputs": [],
   "source": [
    "\n",
    "oneliner=\"\"\n",
    "\n",
    "# Execute the command and capture the output\n",
    "echo \"## Your oneliner was:\"\n",
    "echo $oneliner\n",
    "output=$(eval \"$oneliner\")\n",
    "exit_code=$?\n",
    "md5sum=$(echo -n \"$output\" | md5sum | perl -ane 'print \"$F[0]\\n\"')\n",
    "# Echo the output and exit code\n",
    "echo \"## The output of your oneliner was:\"\n",
    "echo \"$output\"\n",
    "echo \"## The exit code of your oneliner was:\"\n",
    "echo $exit_code\n",
    "echo \"## The md5sum of the output of your oneliner was:\"\n",
    "echo $md5sum\n",
    "if [[ $md5sum == \"29609dce9294d09f140c9dfbeb8a136c\" ]]; then \n",
    "    echo \"#### md5sum of the output is CORRECT.\"\n",
    "else \n",
    "    echo \"#### ERROR: md5sum of the output is INCORRECT.\"\n",
    "fi;"
   ]
  },
  {
   "cell_type": "markdown",
   "id": "a1fbb8ca-a50b-471a-b9b0-034689ce84eb",
   "metadata": {},
   "source": [
    "8. **Which unique boys and girls names end with suffixes \"don\" or \"ler\"?**"
   ]
  },
  {
   "cell_type": "code",
   "execution_count": null,
   "id": "9c48a9a0-0191-4969-a36b-d8985c475ebd",
   "metadata": {},
   "outputs": [],
   "source": [
    "\n",
    "oneliner=\"\"\n",
    "\n",
    "# Execute the command and capture the output\n",
    "echo \"## Your oneliner was:\"\n",
    "echo $oneliner\n",
    "output=$(eval \"$oneliner\")\n",
    "exit_code=$?\n",
    "md5sum=$(echo -n \"$output\" | md5sum | perl -ane 'print \"$F[0]\\n\"')\n",
    "# Echo the output and exit code\n",
    "echo \"## The output of your oneliner was:\"\n",
    "echo \"$output\"\n",
    "echo \"## The exit code of your oneliner was:\"\n",
    "echo $exit_code\n",
    "echo \"## The md5sum of the output of your oneliner was:\"\n",
    "echo $md5sum\n",
    "if [[ $md5sum == \"6a07ec9a1009854a3ef9d5604c34f115\" ]]; then \n",
    "    echo \"#### md5sum of the output is CORRECT.\"\n",
    "else \n",
    "    echo \"#### ERROR: md5sum of the output is INCORRECT.\"\n",
    "fi;"
   ]
  },
  {
   "cell_type": "markdown",
   "id": "e177dacc-ee24-48f5-b2ea-7b4a20fca8a6",
   "metadata": {},
   "source": [
    "9. **In which lines of data do the top-ranked boy's and girl's names with the same rank start with the same three letters?**"
   ]
  },
  {
   "cell_type": "code",
   "execution_count": null,
   "id": "b2b745c8-1461-427d-85c5-bbb5d034c2ff",
   "metadata": {},
   "outputs": [],
   "source": [
    "\n",
    "oneliner=\"\"\n",
    "\n",
    "# Execute the command and capture the output\n",
    "echo \"## Your oneliner was:\"\n",
    "echo $oneliner\n",
    "output=$(eval \"$oneliner\")\n",
    "exit_code=$?\n",
    "md5sum=$(echo -n \"$output\" | md5sum | perl -ane 'print \"$F[0]\\n\"')\n",
    "# Echo the output and exit code\n",
    "echo \"## The output of your oneliner was:\"\n",
    "echo \"$output\"\n",
    "echo \"## The exit code of your oneliner was:\"\n",
    "echo $exit_code\n",
    "echo \"## The md5sum of the output of your oneliner was:\"\n",
    "echo $md5sum\n",
    "if [[ $md5sum == \"e6eb92ac9bd1df58a5605440d5bedeb5\" ]]; then \n",
    "    echo \"#### md5sum of the output is CORRECT.\"\n",
    "else \n",
    "    echo \"#### ERROR: md5sum of the output is INCORRECT.\"\n",
    "fi;"
   ]
  },
  {
   "cell_type": "markdown",
   "id": "48ca4d71-e667-4a64-882f-9965b2e35f3e",
   "metadata": {},
   "source": [
    "9. **Change the regular expression in the Perl One-Liner so that it correctly prints both of the two HTML tags <b> and </b> from the input line:**"
   ]
  },
  {
   "cell_type": "code",
   "execution_count": null,
   "id": "6eb90e15-ddb8-4ac9-9fdb-12c224ccc4bf",
   "metadata": {},
   "outputs": [],
   "source": [
    "echo \"<b>This is bolded text</b>\" | perl -ne 'print \"$1\\n\" while (/(<.+>)/g)'\n",
    "\n",
    "oneliner=\"echo \\\"<b>This is bolded text</b>\\\" | perl -ne 'print \\\"\\$1\\n\\\" while (/(<.+>)/g)'\"\n",
    "\n",
    "# Execute the command and capture the output\n",
    "echo \"## Your oneliner was:\"\n",
    "echo $oneliner\n",
    "output=$(eval \"$oneliner\")\n",
    "exit_code=$?\n",
    "md5sum=$(echo -n \"$output\" | md5sum | perl -ane 'print \"$F[0]\\n\"')\n",
    "# Echo the output and exit code\n",
    "echo \"## The output of your oneliner was:\"\n",
    "echo \"$output\"\n",
    "echo \"## The exit code of your oneliner was:\"\n",
    "echo $exit_code\n",
    "echo \"## The md5sum of the output of your oneliner was:\"\n",
    "echo $md5sum\n",
    "if [[ $md5sum == \"b48c58640b6831d94bfae9cdfccf24f1\" ]]; then \n",
    "    echo \"#### md5sum of the output is CORRECT.\"\n",
    "else \n",
    "    echo \"#### ERROR: md5sum of the output is INCORRECT.\"\n",
    "fi;"
   ]
  },
  {
   "cell_type": "markdown",
   "id": "1f2cccf7-e3e2-4e89-a106-ded44a552f84",
   "metadata": {},
   "source": [
    "**Please export your worked notebook containing command output to HTML and upload it to CatCourses at the end of Lecture.**"
   ]
  }
 ],
 "metadata": {
  "kernelspec": {
   "display_name": "Bash",
   "language": "bash",
   "name": "bash"
  },
  "language_info": {
   "codemirror_mode": "shell",
   "file_extension": ".sh",
   "mimetype": "text/x-sh",
   "name": "bash"
  }
 },
 "nbformat": 4,
 "nbformat_minor": 5
}

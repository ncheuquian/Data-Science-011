{
 "cells": [
  {
   "cell_type": "markdown",
   "id": "1d4373d6-342e-4456-a834-43b74a6bbf01",
   "metadata": {},
   "source": [
    "# Lab 6: Practicing with Regular Expressions\n",
    "\n",
    "**Author:** [Your Name]\n",
    "\n",
    "**Team:** [Your Team Name]\n",
    "\n",
    "**Team Members Present:** [Team Members Present in Lab]\n",
    "\n",
    "**Due:** Mar 5, 2025 at 5:30 pm PST\n",
    "\n",
    "**Course:** DSC 011 Sp25\n",
    "\n",
    "## The Goal and Task of This Lab\n",
    "\n",
    "The **Goal of this lab** is to practice writing and applying Bash/Perl one-liners that use Extended Regular Expressions with `egrep` and `perl` to answer questions about the baby names data in the file `baby_clean.csv`.  \n",
    "\n",
    "The **Task of this lab** flows in **three stages.** \n",
    "\n",
    "**In the first stage, everyone in the team working individually on the same problem at the same time** (silently, without helping each other or having any discussion), attempting to solve each question correctly, checking answers as you go. The notebook cheks solutions automatically, notifying if your solution is CORRECT or INCORRECT. At the end of the first stage, you will upload a first submission of this lab documenting your individual work.\n",
    "\n",
    "**In the second stage, your team members will compare their solutions.** Each team member will take a turn to share their screen and show their worked notebook with their team, reviewing what solutions were correct or incorrect. The team gives feedback, suggestions and discusses what works and what does not work, and what the correct solutions are. After everyone has taken a turn showing their work, every individual should record their team-based solution in their individual notebooks, and then resubmit their notebook. \n",
    "\n",
    "## General Instructions:\n",
    "1. In this notebook file, please fill in all information at the top and save the notebook.\n",
    "2. Rename your saved notebook using your own name.\n",
    "3. Work the assignment as detailed below. \n",
    "4. When finished working the assignment, save the notebook, then export it to HTML.\n",
    "5. Upload the HTML export of your worked assignment to CatCourses."
   ]
  },
  {
   "cell_type": "markdown",
   "id": "414bfddc-1586-4728-ac1c-c29e857ef5c0",
   "metadata": {},
   "source": [
    "## Assignment \n",
    "1. **Write a valid UNIX pipeline to print the decade, rank and name for the top-ranked girl’s names “Anne” over all decades in which it appears, without any extraneous information about data for other names.**"
   ]
  },
  {
   "cell_type": "code",
   "execution_count": null,
   "id": "086e4557-0855-490d-b701-03e03643effa",
   "metadata": {},
   "outputs": [],
   "source": [
    "# Develop your one-liner here, using head as necessary to prevent overflow of ourput in your notebook\n",
    "\n",
    "\n",
    "# Enter your validated command oneliner within the double quotes \n",
    "oneliner=\"\"\n",
    "\n",
    "# Execute the command and capture the output\n",
    "echo \"## Your oneliner was:\"\n",
    "echo $oneliner\n",
    "output=$(eval \"$oneliner\")\n",
    "exit_code=$?\n",
    "md5sum=$(echo -n \"$output\" | md5sum | perl -ane 'print \"$F[0]\\n\"')\n",
    "# Echo the output and exit code\n",
    "echo \"## The output of your oneliner was:\"\n",
    "echo \"$output\"\n",
    "echo \"## The exit code of your oneliner was:\"\n",
    "echo $exit_code\n",
    "echo \"## The md5sum of the output of your oneliner was:\"\n",
    "echo $md5sum\n",
    "if [[ $md5sum == \"2a9468a8110279c89bd4cd3fee250d9b\" ]]; then \n",
    "    echo \"#### md5sum of the output is CORRECT.\"\n",
    "else \n",
    "    echo \"#### ERROR: md5sum of the output is INCORRECT.\"\n",
    "fi;\n"
   ]
  },
  {
   "cell_type": "markdown",
   "id": "f790f0ff-dbc2-4941-96c9-e88a01d681ae",
   "metadata": {},
   "source": [
    "2. **Modify the solution to the last problem to print, with a single UNIX bash pipeline, trend data for both names \"Anne\" and \"Anna\" with no other additional names, to compare their popularity.**"
   ]
  },
  {
   "cell_type": "code",
   "execution_count": null,
   "id": "6c008114-c629-4af5-86ce-4a73a50c83cd",
   "metadata": {},
   "outputs": [],
   "source": [
    "# Develop your one-liner here, using head as necessary to prevent overflow of ourput in your notebook\n",
    "\n",
    "\n",
    "# Enter your validated command oneliner within the double quotes \n",
    "oneliner=\"\"\n",
    "\n",
    "# Execute the command and capture the output\n",
    "echo \"## Your oneliner was:\"\n",
    "echo $oneliner\n",
    "output=$(eval \"$oneliner\")\n",
    "exit_code=$?\n",
    "md5sum=$(echo -n \"$output\" | md5sum | perl -ane 'print \"$F[0]\\n\"')\n",
    "# Echo the output and exit code\n",
    "echo \"## The output of your oneliner was:\"\n",
    "echo \"$output\"\n",
    "echo \"## The exit code of your oneliner was:\"\n",
    "echo $exit_code\n",
    "echo \"## The md5sum of the output of your oneliner was:\"\n",
    "echo $md5sum\n",
    "if [[ $md5sum == \"217b409602e298feb820493b22bb03c0\" ]]; then \n",
    "    echo \"#### md5sum of the output is CORRECT.\"\n",
    "else \n",
    "    echo \"#### ERROR: md5sum of the output is INCORRECT.\"\n",
    "fi;\n"
   ]
  },
  {
   "cell_type": "markdown",
   "id": "abdae61f-f963-4fd2-8ea7-38ade6461263",
   "metadata": {},
   "source": [
    "3. **Write a valid UNIX pipeline that prints all 9 unique top-ranked boy and girl names over all decades that contain both an \"x\" and an \"r,\" of either case.****"
   ]
  },
  {
   "cell_type": "code",
   "execution_count": null,
   "id": "c5d990cb-2cd7-4356-9835-ced47e6d40af",
   "metadata": {},
   "outputs": [],
   "source": [
    "# Develop your one-liner here, using head as necessary to prevent overflow of ourput in your notebook\n",
    "\n",
    "\n",
    "# Enter your validated command oneliner within the double quotes here:\n",
    "oneliner=\"\"\n",
    "\n",
    "# Execute the command and capture the output\n",
    "echo \"## Your oneliner was:\"\n",
    "echo $oneliner\n",
    "output=$(eval \"$oneliner\")\n",
    "exit_code=$?\n",
    "md5sum=$(echo -n \"$output\" | md5sum | perl -ane 'print \"$F[0]\\n\"')\n",
    "# Echo the output and exit code\n",
    "echo \"## The output of your oneliner was:\"\n",
    "echo \"$output\"\n",
    "echo \"## The exit code of your oneliner was:\"\n",
    "echo $exit_code\n",
    "echo \"## The md5sum of the output of your oneliner was:\"\n",
    "echo $md5sum\n",
    "if [[ $md5sum == \"6d564d1884f8c1dc41be7b97b979df39\" ]]; then \n",
    "    echo \"#### md5sum of the output is CORRECT.\"\n",
    "else \n",
    "    echo \"#### ERROR: md5sum of the output is INCORRECT.\"\n",
    "fi;\n"
   ]
  },
  {
   "cell_type": "markdown",
   "id": "6325b224-189c-44b8-bb0d-1c9f974be04c",
   "metadata": {},
   "source": [
    "3. **Write a valid UNIX pipeline that prints all 19 unique top-ranked boy and girl names over all decades that contain two consecutive e’s or a’s regardless of case.****"
   ]
  },
  {
   "cell_type": "code",
   "execution_count": null,
   "id": "3ef20e6e-45df-4cc3-9505-b20fab36b547",
   "metadata": {},
   "outputs": [],
   "source": [
    "# Develop your one-liner here, using head as necessary to prevent overflow of ourput in your notebook\n",
    "\n",
    "\n",
    "# Enter your validated command oneliner within the double quotes \n",
    "oneliner=\"\"\n",
    "\n",
    "# Execute the command and capture the output\n",
    "echo \"## Your oneliner was:\"\n",
    "echo $oneliner\n",
    "output=$(eval \"$oneliner\")\n",
    "exit_code=$?\n",
    "md5sum=$(echo -n \"$output\" | md5sum | perl -ane 'print \"$F[0]\\n\"')\n",
    "# Echo the output and exit code\n",
    "echo \"## The output of your oneliner was:\"\n",
    "echo \"$output\"\n",
    "echo \"## The exit code of your oneliner was:\"\n",
    "echo $exit_code\n",
    "echo \"## The md5sum of the output of your oneliner was:\"\n",
    "echo $md5sum\n",
    "if [[ $md5sum == \"0f8fcba6455bd16e35511b0723430af0\" ]]; then \n",
    "    echo \"#### md5sum of the output is CORRECT.\"\n",
    "else \n",
    "    echo \"#### ERROR: md5sum of the output is INCORRECT.\"\n",
    "fi;\n"
   ]
  },
  {
   "cell_type": "markdown",
   "id": "66e2ea71-6c0a-405c-8897-8fbc477c1785",
   "metadata": {},
   "source": [
    "4. **Write a valid single UNIX pipeline, starting from `baby_clean.csv` as input, that prints all of the unisex names that were top-ranking for both boys and girls in the 1960s (HINT: take advantage of a special option to `uniq`, check `man uniq`). There should be 4 unisex names that were top-ranking in the 1960s. Be careful when selecting data that you are not accidentally selecting data from other decades.**"
   ]
  },
  {
   "cell_type": "code",
   "execution_count": null,
   "id": "c9131d9a-68ab-4883-86c9-702c7503960f",
   "metadata": {},
   "outputs": [],
   "source": [
    "# Develop your one-liner here, using head as necessary to prevent overflow of ourput in your notebook\n",
    "\n",
    "\n",
    "# Enter your validated command oneliner within the double quotes \n",
    "oneliner=\"\"\n",
    "\n",
    "# Execute the command and capture the output\n",
    "echo \"## Your oneliner was:\"\n",
    "echo $oneliner\n",
    "output=$(eval \"$oneliner\")\n",
    "exit_code=$?\n",
    "md5sum=$(echo -n \"$output\" | md5sum | perl -ane 'print \"$F[0]\\n\"')\n",
    "# Echo the output and exit code\n",
    "echo \"## The output of your oneliner was:\"\n",
    "echo \"$output\"\n",
    "echo \"## The exit code of your oneliner was:\"\n",
    "echo $exit_code\n",
    "echo \"## The md5sum of the output of your oneliner was:\"\n",
    "echo $md5sum\n",
    "if [[ $md5sum == \"9e369956ca3dc826877ed8771ac27c9b\" ]]; then \n",
    "    echo \"#### md5sum of the output is CORRECT.\"\n",
    "else \n",
    "    echo \"#### ERROR: md5sum of the output is INCORRECT.\"\n",
    "fi;"
   ]
  },
  {
   "cell_type": "markdown",
   "id": "7ab60dd7-9ca3-4117-aa33-9cb90c073aac",
   "metadata": {},
   "source": [
    "5. **Modify the perl regular-expression to avoid back-tracking, so that both quotations `\"woof\"` and `\"Whoa\"` from the input are output on separate lines surrounded by double quotation marks.**"
   ]
  },
  {
   "cell_type": "code",
   "execution_count": 14,
   "id": "c2cbc1a2-1ca8-4b54-95ae-57bd8dd7e92e",
   "metadata": {},
   "outputs": [
    {
     "name": "stdout",
     "output_type": "stream",
     "text": [
      "\"woof,\" said the dog. \"Whoa,\"\n",
      "## Your oneliner was:\n",
      "echo \"\\\"woof,\\\" said the dog. \\\"Whoa,\\\" said Keanu.\" | perl -ne 'print \"$1\\n\" while (/(\".*\")/g)'\n",
      "## The output of your oneliner was:\n",
      "\"woof,\" said the dog. \"Whoa,\"\n",
      "## The exit code of your oneliner was:\n",
      "0\n",
      "## The md5sum of the output of your oneliner was:\n",
      "1b9663ca82619c46fe7b9e80fc135d3b\n",
      "#### ERROR: md5sum of the output is INCORRECT.\n"
     ]
    }
   ],
   "source": [
    "echo \"\\\"woof,\\\" said the dog. \\\"Whoa,\\\" said Keanu.\" | perl -ne 'print \"$1\\n\" while (/(\\\".*\\\")/g)'\n",
    "\n",
    "# Enter your validated command oneliner within the double quotes \n",
    "oneliner=\"echo \\\"\\\\\\\"woof,\\\\\\\" said the dog. \\\\\\\"Whoa,\\\\\\\" said Keanu.\\\" | perl -ne 'print \\\"\\$1\\n\\\" while (/(\\\".*\\\")/g)'\"\n",
    "\n",
    "# Execute the command and capture the output\n",
    "echo \"## Your oneliner was:\"\n",
    "echo $oneliner\n",
    "output=$(eval \"$oneliner\")\n",
    "exit_code=$?\n",
    "md5sum=$(echo -n \"$output\" | md5sum | perl -ane 'print \"$F[0]\\n\"')\n",
    "# Echo the output and exit code\n",
    "echo \"## The output of your oneliner was:\"\n",
    "echo \"$output\"\n",
    "echo \"## The exit code of your oneliner was:\"\n",
    "echo $exit_code\n",
    "echo \"## The md5sum of the output of your oneliner was:\"\n",
    "echo $md5sum\n",
    "if [[ $md5sum == \"b78948c2f8b7ca3709f18d6fc3c58032\" ]]; then \n",
    "    echo \"#### md5sum of the output is CORRECT.\"\n",
    "else \n",
    "    echo \"#### ERROR: md5sum of the output is INCORRECT.\"\n",
    "fi;"
   ]
  },
  {
   "cell_type": "markdown",
   "id": "d82095c0-7d05-4f99-8bb3-c58a81070611",
   "metadata": {},
   "source": [
    "6. **Come up with your own question about the dataset in `baby_clean.csv` that requires using a regular expression in a UNIX one-liner in order to answer that question. Write the question in this Markdown field, and in the code cell below, write the UNIX one-liner to answer the question.**\n",
    "\n",
    "**Your question about the baby data:** \n",
    "\n",
    "\n",
    "**Your UNIX one-liner to answer this question about the baby data:** "
   ]
  },
  {
   "cell_type": "code",
   "execution_count": null,
   "id": "5d14ed0a-e4c6-4baa-b494-04659b27af0e",
   "metadata": {},
   "outputs": [],
   "source": []
  },
  {
   "cell_type": "markdown",
   "id": "1f2cccf7-e3e2-4e89-a106-ded44a552f84",
   "metadata": {},
   "source": [
    "**Please export your worked notebook containing command output to HTML and upload it to CatCourses by the Deadline.**"
   ]
  },
  {
   "cell_type": "code",
   "execution_count": null,
   "id": "595e5373-95da-4921-ab32-24e5c7edb812",
   "metadata": {},
   "outputs": [],
   "source": []
  }
 ],
 "metadata": {
  "kernelspec": {
   "display_name": "Bash",
   "language": "bash",
   "name": "bash"
  },
  "language_info": {
   "codemirror_mode": "shell",
   "file_extension": ".sh",
   "mimetype": "text/x-sh",
   "name": "bash"
  }
 },
 "nbformat": 4,
 "nbformat_minor": 5
}
